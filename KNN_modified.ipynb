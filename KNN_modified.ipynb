{
 "cells": [
  {
   "attachments": {},
   "cell_type": "markdown",
   "id": "3305ffaa",
   "metadata": {},
   "source": [
    "# Import Libraries"
   ]
  },
  {
   "cell_type": "code",
   "execution_count": 2,
   "id": "1e6c8825",
   "metadata": {},
   "outputs": [],
   "source": [
    "import pandas as pd\n",
    "import seaborn as sns\n",
    "import matplotlib.pyplot as plt\n",
    "import numpy as np\n",
    "import imblearn\n",
    "%matplotlib inline\n"
   ]
  },
  {
   "cell_type": "code",
   "execution_count": 3,
   "id": "f6dda7ae",
   "metadata": {},
   "outputs": [],
   "source": [
    "from sklearn.compose import ColumnTransformer\n",
    "from sklearn.metrics import accuracy_score\n",
    "from sklearn.datasets import fetch_openml\n",
    "from sklearn.pipeline import Pipeline\n",
    "from sklearn.preprocessing import StandardScaler, OneHotEncoder\n",
    "from sklearn.neighbors import KNeighborsClassifier\n",
    "from sklearn.model_selection import train_test_split, GridSearchCV\n",
    "import imblearn\n",
    "from imblearn.over_sampling import SMOTE\n",
    "import os"
   ]
  },
  {
   "attachments": {},
   "cell_type": "markdown",
   "id": "5c8ac740",
   "metadata": {},
   "source": [
    "# Read Data"
   ]
  },
  {
   "cell_type": "code",
   "execution_count": 4,
   "id": "f2b9566b",
   "metadata": {},
   "outputs": [],
   "source": [
    "data_path = os.path.join(\"dataset\",\"Driverdatav1.csv\")"
   ]
  },
  {
   "cell_type": "code",
   "execution_count": 5,
   "id": "646c5718",
   "metadata": {},
   "outputs": [],
   "source": [
    "df=pd.read_csv(data_path)"
   ]
  },
  {
   "cell_type": "code",
   "execution_count": 90,
   "id": "f61b165f",
   "metadata": {},
   "outputs": [
    {
     "data": {
      "text/html": [
       "<div>\n",
       "<style scoped>\n",
       "    .dataframe tbody tr th:only-of-type {\n",
       "        vertical-align: middle;\n",
       "    }\n",
       "\n",
       "    .dataframe tbody tr th {\n",
       "        vertical-align: top;\n",
       "    }\n",
       "\n",
       "    .dataframe thead th {\n",
       "        text-align: right;\n",
       "    }\n",
       "</style>\n",
       "<table border=\"1\" class=\"dataframe\">\n",
       "  <thead>\n",
       "    <tr style=\"text-align: right;\">\n",
       "      <th></th>\n",
       "      <th>OperClass</th>\n",
       "      <th>Gender</th>\n",
       "      <th>MilitaryService</th>\n",
       "      <th>Workhrdy</th>\n",
       "      <th>AGE</th>\n",
       "      <th>TrfTime</th>\n",
       "      <th>Status</th>\n",
       "    </tr>\n",
       "  </thead>\n",
       "  <tbody>\n",
       "    <tr>\n",
       "      <th>10</th>\n",
       "      <td>E</td>\n",
       "      <td>F</td>\n",
       "      <td>N</td>\n",
       "      <td>6.2</td>\n",
       "      <td>56</td>\n",
       "      <td>0</td>\n",
       "      <td>0</td>\n",
       "    </tr>\n",
       "    <tr>\n",
       "      <th>16</th>\n",
       "      <td>E</td>\n",
       "      <td>M</td>\n",
       "      <td>N</td>\n",
       "      <td>6.4</td>\n",
       "      <td>41</td>\n",
       "      <td>0</td>\n",
       "      <td>0</td>\n",
       "    </tr>\n",
       "    <tr>\n",
       "      <th>17</th>\n",
       "      <td>E</td>\n",
       "      <td>M</td>\n",
       "      <td>Y</td>\n",
       "      <td>9.6</td>\n",
       "      <td>39</td>\n",
       "      <td>0</td>\n",
       "      <td>0</td>\n",
       "    </tr>\n",
       "    <tr>\n",
       "      <th>19</th>\n",
       "      <td>E</td>\n",
       "      <td>F</td>\n",
       "      <td>N</td>\n",
       "      <td>1.9</td>\n",
       "      <td>58</td>\n",
       "      <td>0</td>\n",
       "      <td>0</td>\n",
       "    </tr>\n",
       "    <tr>\n",
       "      <th>21</th>\n",
       "      <td>E</td>\n",
       "      <td>M</td>\n",
       "      <td>N</td>\n",
       "      <td>3.6</td>\n",
       "      <td>30</td>\n",
       "      <td>0</td>\n",
       "      <td>0</td>\n",
       "    </tr>\n",
       "    <tr>\n",
       "      <th>...</th>\n",
       "      <td>...</td>\n",
       "      <td>...</td>\n",
       "      <td>...</td>\n",
       "      <td>...</td>\n",
       "      <td>...</td>\n",
       "      <td>...</td>\n",
       "      <td>...</td>\n",
       "    </tr>\n",
       "    <tr>\n",
       "      <th>261</th>\n",
       "      <td>E</td>\n",
       "      <td>M</td>\n",
       "      <td>N</td>\n",
       "      <td>7.4</td>\n",
       "      <td>71</td>\n",
       "      <td>0</td>\n",
       "      <td>0</td>\n",
       "    </tr>\n",
       "    <tr>\n",
       "      <th>270</th>\n",
       "      <td>E</td>\n",
       "      <td>F</td>\n",
       "      <td>N</td>\n",
       "      <td>6.9</td>\n",
       "      <td>33</td>\n",
       "      <td>0</td>\n",
       "      <td>0</td>\n",
       "    </tr>\n",
       "    <tr>\n",
       "      <th>272</th>\n",
       "      <td>E</td>\n",
       "      <td>M</td>\n",
       "      <td>N</td>\n",
       "      <td>5.7</td>\n",
       "      <td>62</td>\n",
       "      <td>0</td>\n",
       "      <td>0</td>\n",
       "    </tr>\n",
       "    <tr>\n",
       "      <th>274</th>\n",
       "      <td>E</td>\n",
       "      <td>M</td>\n",
       "      <td>N</td>\n",
       "      <td>7.9</td>\n",
       "      <td>49</td>\n",
       "      <td>0</td>\n",
       "      <td>0</td>\n",
       "    </tr>\n",
       "    <tr>\n",
       "      <th>288</th>\n",
       "      <td>R</td>\n",
       "      <td>F</td>\n",
       "      <td>N</td>\n",
       "      <td>3.6</td>\n",
       "      <td>44</td>\n",
       "      <td>0</td>\n",
       "      <td>0</td>\n",
       "    </tr>\n",
       "  </tbody>\n",
       "</table>\n",
       "<p>107 rows × 7 columns</p>\n",
       "</div>"
      ],
      "text/plain": [
       "    OperClass Gender MilitaryService  Workhrdy  AGE  TrfTime  Status\n",
       "10          E      F               N       6.2   56        0       0\n",
       "16          E      M               N       6.4   41        0       0\n",
       "17          E      M               Y       9.6   39        0       0\n",
       "19          E      F               N       1.9   58        0       0\n",
       "21          E      M               N       3.6   30        0       0\n",
       "..        ...    ...             ...       ...  ...      ...     ...\n",
       "261         E      M               N       7.4   71        0       0\n",
       "270         E      F               N       6.9   33        0       0\n",
       "272         E      M               N       5.7   62        0       0\n",
       "274         E      M               N       7.9   49        0       0\n",
       "288         R      F               N       3.6   44        0       0\n",
       "\n",
       "[107 rows x 7 columns]"
      ]
     },
     "execution_count": 90,
     "metadata": {},
     "output_type": "execute_result"
    }
   ],
   "source": [
    "df.loc[df['Status']==0,:]"
   ]
  },
  {
   "cell_type": "code",
   "execution_count": 87,
   "id": "8969c038",
   "metadata": {
    "scrolled": true
   },
   "outputs": [
    {
     "data": {
      "text/html": [
       "<div>\n",
       "<style scoped>\n",
       "    .dataframe tbody tr th:only-of-type {\n",
       "        vertical-align: middle;\n",
       "    }\n",
       "\n",
       "    .dataframe tbody tr th {\n",
       "        vertical-align: top;\n",
       "    }\n",
       "\n",
       "    .dataframe thead th {\n",
       "        text-align: right;\n",
       "    }\n",
       "</style>\n",
       "<table border=\"1\" class=\"dataframe\">\n",
       "  <thead>\n",
       "    <tr style=\"text-align: right;\">\n",
       "      <th></th>\n",
       "      <th>Workhrdy</th>\n",
       "      <th>AGE</th>\n",
       "      <th>TrfTime</th>\n",
       "      <th>Status</th>\n",
       "    </tr>\n",
       "  </thead>\n",
       "  <tbody>\n",
       "    <tr>\n",
       "      <th>count</th>\n",
       "      <td>315.000000</td>\n",
       "      <td>315.000000</td>\n",
       "      <td>315.000000</td>\n",
       "      <td>315.000000</td>\n",
       "    </tr>\n",
       "    <tr>\n",
       "      <th>mean</th>\n",
       "      <td>5.603492</td>\n",
       "      <td>45.028571</td>\n",
       "      <td>6.136508</td>\n",
       "      <td>0.660317</td>\n",
       "    </tr>\n",
       "    <tr>\n",
       "      <th>std</th>\n",
       "      <td>1.519393</td>\n",
       "      <td>11.331814</td>\n",
       "      <td>18.984668</td>\n",
       "      <td>0.474355</td>\n",
       "    </tr>\n",
       "    <tr>\n",
       "      <th>min</th>\n",
       "      <td>1.000000</td>\n",
       "      <td>23.000000</td>\n",
       "      <td>0.000000</td>\n",
       "      <td>0.000000</td>\n",
       "    </tr>\n",
       "    <tr>\n",
       "      <th>25%</th>\n",
       "      <td>4.800000</td>\n",
       "      <td>36.000000</td>\n",
       "      <td>0.000000</td>\n",
       "      <td>0.000000</td>\n",
       "    </tr>\n",
       "    <tr>\n",
       "      <th>50%</th>\n",
       "      <td>5.800000</td>\n",
       "      <td>45.000000</td>\n",
       "      <td>0.000000</td>\n",
       "      <td>1.000000</td>\n",
       "    </tr>\n",
       "    <tr>\n",
       "      <th>75%</th>\n",
       "      <td>6.500000</td>\n",
       "      <td>53.000000</td>\n",
       "      <td>0.000000</td>\n",
       "      <td>1.000000</td>\n",
       "    </tr>\n",
       "    <tr>\n",
       "      <th>max</th>\n",
       "      <td>9.600000</td>\n",
       "      <td>79.000000</td>\n",
       "      <td>154.000000</td>\n",
       "      <td>1.000000</td>\n",
       "    </tr>\n",
       "  </tbody>\n",
       "</table>\n",
       "</div>"
      ],
      "text/plain": [
       "         Workhrdy         AGE     TrfTime      Status\n",
       "count  315.000000  315.000000  315.000000  315.000000\n",
       "mean     5.603492   45.028571    6.136508    0.660317\n",
       "std      1.519393   11.331814   18.984668    0.474355\n",
       "min      1.000000   23.000000    0.000000    0.000000\n",
       "25%      4.800000   36.000000    0.000000    0.000000\n",
       "50%      5.800000   45.000000    0.000000    1.000000\n",
       "75%      6.500000   53.000000    0.000000    1.000000\n",
       "max      9.600000   79.000000  154.000000    1.000000"
      ]
     },
     "execution_count": 87,
     "metadata": {},
     "output_type": "execute_result"
    }
   ],
   "source": [
    "df.describe()"
   ]
  },
  {
   "attachments": {},
   "cell_type": "markdown",
   "id": "b45c73a2",
   "metadata": {},
   "source": [
    "# Identify Explained and Outcome Variable"
   ]
  },
  {
   "attachments": {},
   "cell_type": "markdown",
   "id": "64101c89",
   "metadata": {},
   "source": [
    "# Split data into train and test dataset"
   ]
  },
  {
   "cell_type": "code",
   "execution_count": 8,
   "id": "7090ba07",
   "metadata": {},
   "outputs": [],
   "source": [
    "from sklearn.model_selection import train_test_split\n",
    "import pickle5 as pickle\n",
    "import os"
   ]
  },
  {
   "cell_type": "code",
   "execution_count": 12,
   "id": "17c569bf",
   "metadata": {},
   "outputs": [],
   "source": [
    "X = df.drop(\"Status\",axis = 1)"
   ]
  },
  {
   "cell_type": "code",
   "execution_count": 14,
   "id": "d80ba566",
   "metadata": {},
   "outputs": [],
   "source": [
    "y = df['Status']"
   ]
  },
  {
   "cell_type": "code",
   "execution_count": 16,
   "id": "3d63b353",
   "metadata": {},
   "outputs": [],
   "source": [
    "X_train,X_test,y_train, y_test=train_test_split(X,y,test_size= 0.25,random_state=259)"
   ]
  },
  {
   "attachments": {},
   "cell_type": "markdown",
   "id": "155ee133",
   "metadata": {},
   "source": [
    "## Transformation Data PipeLine\n"
   ]
  },
  {
   "cell_type": "code",
   "execution_count": 21,
   "id": "c6575108",
   "metadata": {},
   "outputs": [],
   "source": [
    "from sklearn.preprocessing import StandardScaler\n",
    "import pickle"
   ]
  },
  {
   "cell_type": "code",
   "execution_count": 26,
   "id": "93228475",
   "metadata": {},
   "outputs": [],
   "source": [
    "numerical_columns = ['Workhrdy', 'AGE', 'TrfTime']\n",
    "\n",
    "category_columns = ['OperClass', 'Gender', 'MilitaryService']\n",
    "num_pipeline = Pipeline(steps=[(\"Scaler\",StandardScaler())])\n",
    "cat_pipeline = Pipeline(steps=[(\"one_hot_encoder\",OneHotEncoder())])\n",
    "processor = ColumnTransformer([(\"num_pipeline\",num_pipeline,numerical_columns),\n",
    "                               (\"cat_pipeline\",cat_pipeline,category_columns)],verbose_feature_names_out=False)\n",
    "\n",
    "#Fit_transform the training set\n",
    "\n",
    "transformed_X_train = processor.fit_transform(X_train)\n",
    "transformed_X_test = processor.transform(X_test)\n",
    "#Save the tranformation data file\n",
    "with open(os.path.join('pickle_files','preprocessor.pkl'),'wb') as f:\n",
    "    pickle.dump(processor,f)"
   ]
  },
  {
   "cell_type": "code",
   "execution_count": 27,
   "id": "d338d612",
   "metadata": {},
   "outputs": [
    {
     "data": {
      "text/plain": [
       "array(['Workhrdy', 'AGE', 'TrfTime', 'OperClass_E', 'OperClass_R',\n",
       "       'Gender_F', 'Gender_M', 'MilitaryService_N', 'MilitaryService_Y'],\n",
       "      dtype=object)"
      ]
     },
     "execution_count": 27,
     "metadata": {},
     "output_type": "execute_result"
    }
   ],
   "source": [
    "processor.get_feature_names_out()"
   ]
  },
  {
   "cell_type": "code",
   "execution_count": 36,
   "id": "ca10ca3c",
   "metadata": {},
   "outputs": [
    {
     "data": {
      "text/plain": [
       "array([-1.34896507, -0.01334832, -0.32665807,  1.        ,  0.        ,\n",
       "        1.        ,  0.        ,  1.        ,  0.        ])"
      ]
     },
     "execution_count": 36,
     "metadata": {},
     "output_type": "execute_result"
    }
   ],
   "source": [
    "transformed_X_train[0]"
   ]
  },
  {
   "cell_type": "code",
   "execution_count": 29,
   "id": "2c1a5575",
   "metadata": {},
   "outputs": [
    {
     "data": {
      "text/plain": [
       "array([-0.56979536,  0.07415733, -0.32665807,  1.        ,  0.        ,\n",
       "        1.        ,  0.        ,  1.        ,  0.        ])"
      ]
     },
     "execution_count": 29,
     "metadata": {},
     "output_type": "execute_result"
    }
   ],
   "source": [
    "transformed_X_test[0]"
   ]
  },
  {
   "cell_type": "code",
   "execution_count": 40,
   "id": "4a76d634",
   "metadata": {},
   "outputs": [
    {
     "data": {
      "text/plain": [
       "array(['E', 'M', 'N', '3.4', '62', '0'], dtype='<U32')"
      ]
     },
     "execution_count": 40,
     "metadata": {},
     "output_type": "execute_result"
    }
   ],
   "source": [
    "np.array(list(X.iloc[0,:].values))"
   ]
  },
  {
   "cell_type": "code",
   "execution_count": 48,
   "id": "ea68dca8",
   "metadata": {},
   "outputs": [
    {
     "data": {
      "text/html": [
       "<div>\n",
       "<style scoped>\n",
       "    .dataframe tbody tr th:only-of-type {\n",
       "        vertical-align: middle;\n",
       "    }\n",
       "\n",
       "    .dataframe tbody tr th {\n",
       "        vertical-align: top;\n",
       "    }\n",
       "\n",
       "    .dataframe thead th {\n",
       "        text-align: right;\n",
       "    }\n",
       "</style>\n",
       "<table border=\"1\" class=\"dataframe\">\n",
       "  <thead>\n",
       "    <tr style=\"text-align: right;\">\n",
       "      <th></th>\n",
       "      <th>OperClass</th>\n",
       "      <th>Gender</th>\n",
       "      <th>MilitaryService</th>\n",
       "      <th>Workhrdy</th>\n",
       "      <th>AGE</th>\n",
       "      <th>TrfTime</th>\n",
       "      <th>Status</th>\n",
       "    </tr>\n",
       "  </thead>\n",
       "  <tbody>\n",
       "    <tr>\n",
       "      <th>0</th>\n",
       "      <td>E</td>\n",
       "      <td>M</td>\n",
       "      <td>N</td>\n",
       "      <td>3.4</td>\n",
       "      <td>62</td>\n",
       "      <td>0</td>\n",
       "      <td>1</td>\n",
       "    </tr>\n",
       "    <tr>\n",
       "      <th>1</th>\n",
       "      <td>E</td>\n",
       "      <td>M</td>\n",
       "      <td>N</td>\n",
       "      <td>5.5</td>\n",
       "      <td>55</td>\n",
       "      <td>0</td>\n",
       "      <td>1</td>\n",
       "    </tr>\n",
       "    <tr>\n",
       "      <th>2</th>\n",
       "      <td>E</td>\n",
       "      <td>M</td>\n",
       "      <td>N</td>\n",
       "      <td>2.6</td>\n",
       "      <td>66</td>\n",
       "      <td>0</td>\n",
       "      <td>1</td>\n",
       "    </tr>\n",
       "    <tr>\n",
       "      <th>3</th>\n",
       "      <td>E</td>\n",
       "      <td>M</td>\n",
       "      <td>N</td>\n",
       "      <td>6.9</td>\n",
       "      <td>50</td>\n",
       "      <td>0</td>\n",
       "      <td>1</td>\n",
       "    </tr>\n",
       "    <tr>\n",
       "      <th>4</th>\n",
       "      <td>E</td>\n",
       "      <td>M</td>\n",
       "      <td>N</td>\n",
       "      <td>6.0</td>\n",
       "      <td>55</td>\n",
       "      <td>0</td>\n",
       "      <td>1</td>\n",
       "    </tr>\n",
       "  </tbody>\n",
       "</table>\n",
       "</div>"
      ],
      "text/plain": [
       "  OperClass Gender MilitaryService  Workhrdy  AGE  TrfTime  Status\n",
       "0         E      M               N       3.4   62        0       1\n",
       "1         E      M               N       5.5   55        0       1\n",
       "2         E      M               N       2.6   66        0       1\n",
       "3         E      M               N       6.9   50        0       1\n",
       "4         E      M               N       6.0   55        0       1"
      ]
     },
     "execution_count": 48,
     "metadata": {},
     "output_type": "execute_result"
    }
   ],
   "source": [
    "df.head()"
   ]
  },
  {
   "cell_type": "code",
   "execution_count": 60,
   "id": "73cafff6",
   "metadata": {},
   "outputs": [],
   "source": [
    "data_dict = {'OperClass':'E', 'Gender':'M','Workhrdy':3.4,'MilitaryService':'N','AGE':62,'TrfTime':0}"
   ]
  },
  {
   "attachments": {},
   "cell_type": "markdown",
   "id": "4c5c04ad",
   "metadata": {},
   "source": [
    "# Correlation"
   ]
  },
  {
   "cell_type": "code",
   "execution_count": 16,
   "id": "a80a8b4c",
   "metadata": {},
   "outputs": [
    {
     "data": {
      "text/html": [
       "<div>\n",
       "<style scoped>\n",
       "    .dataframe tbody tr th:only-of-type {\n",
       "        vertical-align: middle;\n",
       "    }\n",
       "\n",
       "    .dataframe tbody tr th {\n",
       "        vertical-align: top;\n",
       "    }\n",
       "\n",
       "    .dataframe thead th {\n",
       "        text-align: right;\n",
       "    }\n",
       "</style>\n",
       "<table border=\"1\" class=\"dataframe\">\n",
       "  <thead>\n",
       "    <tr style=\"text-align: right;\">\n",
       "      <th></th>\n",
       "      <th>Workhrdy</th>\n",
       "      <th>AGE</th>\n",
       "      <th>TrfTime</th>\n",
       "      <th>Status</th>\n",
       "      <th>OperClass_R</th>\n",
       "      <th>Gender_M</th>\n",
       "      <th>MilitaryService_Y</th>\n",
       "    </tr>\n",
       "  </thead>\n",
       "  <tbody>\n",
       "    <tr>\n",
       "      <th>Workhrdy</th>\n",
       "      <td>1.000000</td>\n",
       "      <td>0.064826</td>\n",
       "      <td>0.074133</td>\n",
       "      <td>-0.060211</td>\n",
       "      <td>0.056050</td>\n",
       "      <td>0.134222</td>\n",
       "      <td>0.056389</td>\n",
       "    </tr>\n",
       "    <tr>\n",
       "      <th>AGE</th>\n",
       "      <td>0.064826</td>\n",
       "      <td>1.000000</td>\n",
       "      <td>-0.027138</td>\n",
       "      <td>0.120306</td>\n",
       "      <td>0.085387</td>\n",
       "      <td>-0.023120</td>\n",
       "      <td>0.090378</td>\n",
       "    </tr>\n",
       "    <tr>\n",
       "      <th>TrfTime</th>\n",
       "      <td>0.074133</td>\n",
       "      <td>-0.027138</td>\n",
       "      <td>1.000000</td>\n",
       "      <td>0.232204</td>\n",
       "      <td>-0.063559</td>\n",
       "      <td>0.026356</td>\n",
       "      <td>0.095684</td>\n",
       "    </tr>\n",
       "    <tr>\n",
       "      <th>Status</th>\n",
       "      <td>-0.060211</td>\n",
       "      <td>0.120306</td>\n",
       "      <td>0.232204</td>\n",
       "      <td>1.000000</td>\n",
       "      <td>0.165853</td>\n",
       "      <td>0.095775</td>\n",
       "      <td>-0.067365</td>\n",
       "    </tr>\n",
       "    <tr>\n",
       "      <th>OperClass_R</th>\n",
       "      <td>0.056050</td>\n",
       "      <td>0.085387</td>\n",
       "      <td>-0.063559</td>\n",
       "      <td>0.165853</td>\n",
       "      <td>1.000000</td>\n",
       "      <td>0.058702</td>\n",
       "      <td>0.018062</td>\n",
       "    </tr>\n",
       "    <tr>\n",
       "      <th>Gender_M</th>\n",
       "      <td>0.134222</td>\n",
       "      <td>-0.023120</td>\n",
       "      <td>0.026356</td>\n",
       "      <td>0.095775</td>\n",
       "      <td>0.058702</td>\n",
       "      <td>1.000000</td>\n",
       "      <td>0.112442</td>\n",
       "    </tr>\n",
       "    <tr>\n",
       "      <th>MilitaryService_Y</th>\n",
       "      <td>0.056389</td>\n",
       "      <td>0.090378</td>\n",
       "      <td>0.095684</td>\n",
       "      <td>-0.067365</td>\n",
       "      <td>0.018062</td>\n",
       "      <td>0.112442</td>\n",
       "      <td>1.000000</td>\n",
       "    </tr>\n",
       "  </tbody>\n",
       "</table>\n",
       "</div>"
      ],
      "text/plain": [
       "                   Workhrdy       AGE   TrfTime    Status  OperClass_R  \\\n",
       "Workhrdy           1.000000  0.064826  0.074133 -0.060211     0.056050   \n",
       "AGE                0.064826  1.000000 -0.027138  0.120306     0.085387   \n",
       "TrfTime            0.074133 -0.027138  1.000000  0.232204    -0.063559   \n",
       "Status            -0.060211  0.120306  0.232204  1.000000     0.165853   \n",
       "OperClass_R        0.056050  0.085387 -0.063559  0.165853     1.000000   \n",
       "Gender_M           0.134222 -0.023120  0.026356  0.095775     0.058702   \n",
       "MilitaryService_Y  0.056389  0.090378  0.095684 -0.067365     0.018062   \n",
       "\n",
       "                   Gender_M  MilitaryService_Y  \n",
       "Workhrdy           0.134222           0.056389  \n",
       "AGE               -0.023120           0.090378  \n",
       "TrfTime            0.026356           0.095684  \n",
       "Status             0.095775          -0.067365  \n",
       "OperClass_R        0.058702           0.018062  \n",
       "Gender_M           1.000000           0.112442  \n",
       "MilitaryService_Y  0.112442           1.000000  "
      ]
     },
     "execution_count": 16,
     "metadata": {},
     "output_type": "execute_result"
    }
   ],
   "source": [
    "df.corr()"
   ]
  },
  {
   "cell_type": "code",
   "execution_count": 17,
   "id": "0d21d5c0",
   "metadata": {},
   "outputs": [],
   "source": [
    "import seaborn as sns"
   ]
  },
  {
   "cell_type": "code",
   "execution_count": 18,
   "id": "3ca5db2a",
   "metadata": {
    "scrolled": true
   },
   "outputs": [
    {
     "data": {
      "image/png": "[encoded data removed]",
      "text/plain": [
       "<Figure size 500x500 with 2 Axes>"
      ]
     },
     "metadata": {},
     "output_type": "display_data"
    }
   ],
   "source": [
    "corrmat=df.corr()\n",
    "top_corr_features = corrmat.index\n",
    "plt.figure(figsize=(5,5))\n",
    "#plot heat map\n",
    "g=sns.heatmap(df[top_corr_features].corr(),annot=True,cmap=\"RdYlGn\")"
   ]
  },
  {
   "attachments": {},
   "cell_type": "markdown",
   "id": "a433ed38",
   "metadata": {},
   "source": [
    "# Fit Model & Prediction"
   ]
  },
  {
   "cell_type": "code",
   "execution_count": 69,
   "id": "1277fc27",
   "metadata": {
    "scrolled": true
   },
   "outputs": [],
   "source": [
    "#FineTune Hyperparameter\n",
    "training_acc=[]\n",
    "test_acc=[]\n",
    "\n",
    "neighbors= range(1,30)\n",
    "\n",
    "for num_neighbors in neighbors:\n",
    "    Knn_model=KNeighborsClassifier(n_neighbors=num_neighbors)\n",
    "    Knn_model.fit(transformed_X_train,y_train)\n",
    "    training_acc.append(Knn_model.score(transformed_X_train,y_train))\n",
    "    test_acc.append(Knn_model.score(transformed_X_test,y_test))\n",
    "    \n",
    "    \n",
    "    "
   ]
  },
  {
   "cell_type": "code",
   "execution_count": 70,
   "id": "946887fb",
   "metadata": {},
   "outputs": [
    {
     "data": {
      "text/plain": [
       "Text(0.5, 0, 'Number of neighbors')"
      ]
     },
     "execution_count": 70,
     "metadata": {},
     "output_type": "execute_result"
    },
    {
     "data": {
      "image/png": "[encoded data removed]",
      "text/plain": [
       "<Figure size 640x480 with 1 Axes>"
      ]
     },
     "metadata": {},
     "output_type": "display_data"
    }
   ],
   "source": [
    "import matplotlib.pyplot as plt\n",
    "plt.plot(neighbors,training_acc,label = \"training accuracy\")\n",
    "plt.plot(neighbors,test_acc, label=\"test accuracy\")\n",
    "plt.ylabel(\"Accuracy\")\n",
    "plt.xlabel(\"Number of neighbors\")"
   ]
  },
  {
   "cell_type": "code",
   "execution_count": 71,
   "id": "431581f0",
   "metadata": {},
   "outputs": [
    {
     "data": {
      "text/plain": [
       "KNeighborsClassifier(n_neighbors=17)"
      ]
     },
     "execution_count": 71,
     "metadata": {},
     "output_type": "execute_result"
    }
   ],
   "source": [
    "# based on the graph above, choose n_neighbors = 17\n",
    "knn=KNeighborsClassifier(n_neighbors=17)\n",
    "knn.fit(transformed_X_train,y_train)"
   ]
  },
  {
   "cell_type": "code",
   "execution_count": 72,
   "id": "d2ea1c10",
   "metadata": {},
   "outputs": [],
   "source": [
    "pred=knn.predict(transformed_X_test)"
   ]
  },
  {
   "attachments": {},
   "cell_type": "markdown",
   "id": "b52493a4",
   "metadata": {},
   "source": [
    "# Model Evaluation"
   ]
  },
  {
   "cell_type": "code",
   "execution_count": 74,
   "id": "84decc9b",
   "metadata": {},
   "outputs": [],
   "source": [
    "from sklearn.metrics import classification_report, confusion_matrix\n",
    "from sklearn.model_selection import cross_val_score"
   ]
  },
  {
   "cell_type": "code",
   "execution_count": 75,
   "id": "297426d1",
   "metadata": {},
   "outputs": [
    {
     "name": "stdout",
     "output_type": "stream",
     "text": [
      "[[ 9 17]\n",
      " [ 6 47]]\n"
     ]
    }
   ],
   "source": [
    "print(confusion_matrix(y_test,pred))"
   ]
  },
  {
   "cell_type": "code",
   "execution_count": 76,
   "id": "f4e0661c",
   "metadata": {},
   "outputs": [
    {
     "name": "stdout",
     "output_type": "stream",
     "text": [
      "              precision    recall  f1-score   support\n",
      "\n",
      "           0       0.60      0.35      0.44        26\n",
      "           1       0.73      0.89      0.80        53\n",
      "\n",
      "    accuracy                           0.71        79\n",
      "   macro avg       0.67      0.62      0.62        79\n",
      "weighted avg       0.69      0.71      0.68        79\n",
      "\n"
     ]
    }
   ],
   "source": [
    "print(classification_report(y_test,pred))"
   ]
  },
  {
   "attachments": {},
   "cell_type": "markdown",
   "id": "9d70538d",
   "metadata": {},
   "source": [
    "# Pickle file for deployment"
   ]
  },
  {
   "cell_type": "code",
   "execution_count": 78,
   "id": "d4ab514b",
   "metadata": {},
   "outputs": [],
   "source": [
    "#Pickling the model file\n",
    "import pickle\n",
    "model_path  = os.path.join(\"pickle_files\",\"knn.pkl\")\n",
    "with open(model_path,'wb') as f:\n",
    "    pickle.dump(knn,f)\n"
   ]
  }
 ],
 "metadata": {
  "kernelspec": {
   "display_name": "Python 3",
   "language": "python",
   "name": "python3"
  },
  "language_info": {
   "codemirror_mode": {
    "name": "ipython",
    "version": 3
   },
   "file_extension": ".py",
   "mimetype": "text/x-python",
   "name": "python",
   "nbconvert_exporter": "python",
   "pygments_lexer": "ipython3",
   "version": "3.7.0"
  }
 },
 "nbformat": 4,
 "nbformat_minor": 5
}
